{
 "cells": [
  {
   "cell_type": "markdown",
   "metadata": {
    "id": "PiZZfxvj57LK"
   },
   "source": [
    "**General Instructions:**\n",
    "\n",
    "*   Please make a copy of this colab notebook in your own drive and solve the questions in the copy. Do not edit the original file.\n",
    "\n",
    "*   All participants are encouraged to learn the basics of python including data types, operators, loops, conditional statements, handling user-defined input, strings, string methods, lists, list comprehension, sets, tuples, dictionaries and basic object-oriented programming concepts before coming to the interview.\n",
    "\n",
    "Beginners unfamiliar with Python are advised to watch the following tutorial before beginning Task 1.\n",
    "\n",
    "**Python Tutorial:** https://youtu.be/_uQrJ0TkZlc?feature=shared\n",
    "\n",
    "\n",
    "**Note:** The expected output is given in the cells below the question.\n"
   ]
  },
  {
   "cell_type": "markdown",
   "metadata": {
    "id": "FgdtUgoiauGY"
   },
   "source": [
    "# Task 1 - Basics of Python\n",
    "\n",
    "\n",
    "\n",
    "> It is the year 3031 and the Earth has been invaded by an alien species from the planet of Dioneterra. The resources on their own planet have become severely depleted and they're determined to subjugate humans and take control of the Earth's resources. The Dioneterrans can take on the appearance of any human. The world has been thrown into chaos and fear as the aliens have infiltrated all levels of government. You don't know who to trust as anyone can be an alien in disguise.\n",
    "\n",
    "\n",
    "\n",
    "\n"
   ]
  },
  {
   "cell_type": "markdown",
   "metadata": {
    "id": "jk_UOVbvcfJb"
   },
   "source": [
    "**Question 1:**\n",
    "You have a group of people you can trust, whose identities you have confirmed as humans. Unfortunately, since the aliens have access to government resources they have information on all citizens. It would be the height of foolishness to call your team members by their own names while on missions to save humanity. As such you need to generate secret code names for each member.\n",
    "\n",
    "Given below is a list of names. Your job is to write a function codename_generator() that takes the given list as input and prints every possible combination of code names from the given list, separated by whitespace (e.g. Orion Barracuda). Take care to not print codenames with the same name twice (e.g. Orion Orion) or two codenames with the same combination (e.g. if you have a codename Orion Barracuda, then you cannot have a codename Barracuda Orion)."
   ]
  },
  {
   "cell_type": "code",
   "execution_count": null,
   "metadata": {
    "id": "LmwLUF-kahv0"
   },
   "outputs": [],
   "source": [
    "name_list = [\"Orion\", \"Barracuda\", \"Amethyst\", \"Blade\", \"Wasp\", \"Nemesis\", \"Fury\", \"Cobra\", \"Tempest\", \"Leo\", \"Scythe\"]"
   ]
  },
  {
   "cell_type": "code",
   "execution_count": 8,
   "metadata": {
    "colab": {
     "base_uri": "https://localhost:8080/"
    },
    "id": "H3vbMHoYf5Q1",
    "outputId": "571a23b4-ba77-4bdb-c5a9-0b1bfa234052"
   },
   "outputs": [
    {
     "name": "stdout",
     "output_type": "stream",
     "text": [
      "Orion Barracuda\n",
      "Orion Amethyst\n",
      "Orion Blade\n",
      "Orion Wasp\n",
      "Orion Nemesis\n",
      "Orion Fury\n",
      "Orion Cobra\n",
      "Orion Tempest\n",
      "Orion Leo\n",
      "Orion Scythe\n",
      "Barracuda Amethyst\n",
      "Barracuda Blade\n",
      "Barracuda Wasp\n",
      "Barracuda Nemesis\n",
      "Barracuda Fury\n",
      "Barracuda Cobra\n",
      "Barracuda Tempest\n",
      "Barracuda Leo\n",
      "Barracuda Scythe\n",
      "Amethyst Blade\n",
      "Amethyst Wasp\n",
      "Amethyst Nemesis\n",
      "Amethyst Fury\n",
      "Amethyst Cobra\n",
      "Amethyst Tempest\n",
      "Amethyst Leo\n",
      "Amethyst Scythe\n",
      "Blade Wasp\n",
      "Blade Nemesis\n",
      "Blade Fury\n",
      "Blade Cobra\n",
      "Blade Tempest\n",
      "Blade Leo\n",
      "Blade Scythe\n",
      "Wasp Nemesis\n",
      "Wasp Fury\n",
      "Wasp Cobra\n",
      "Wasp Tempest\n",
      "Wasp Leo\n",
      "Wasp Scythe\n",
      "Nemesis Fury\n",
      "Nemesis Cobra\n",
      "Nemesis Tempest\n",
      "Nemesis Leo\n",
      "Nemesis Scythe\n",
      "Fury Cobra\n",
      "Fury Tempest\n",
      "Fury Leo\n",
      "Fury Scythe\n",
      "Cobra Tempest\n",
      "Cobra Leo\n",
      "Cobra Scythe\n",
      "Tempest Leo\n",
      "Tempest Scythe\n",
      "Leo Scythe\n"
     ]
    }
   ],
   "source": [
    "# your code here\n",
    "def codename_generator(l):\n",
    "    for i in range(l):\n",
    "        for j in range(i+1,l):\n",
    "             print(f\"{name_list[i]} {name_list[j]}\")\n",
    "\n",
    "\n",
    "name_list = [\"Orion\", \"Barracuda\", \"Amethyst\", \"Blade\", \"Wasp\", \"Nemesis\", \"Fury\", \"Cobra\", \"Tempest\", \"Leo\", \"Scythe\"]\n",
    "l=len(name_list)\n",
    "codename_generator(l)"
   ]
  },
  {
   "cell_type": "markdown",
   "metadata": {
    "id": "gezvSe3_hgoU"
   },
   "source": [
    "**Question 2:**\n",
    "You recently caught wind of the rumour that a Resistance Movement against the aliens is starting to gain traction. You and your group of trustworthy humans resolve to go to the headquarters of the Resistance and join the movement.\n",
    "\n",
    "You reach the headquarters and find utter chaos, the leader of the Resistance tells you that they have so many refugees and as a result their registration system is a mess and they have no way of telling apart actual humans and aliens who might have infiltrated the headquarters as humans.\n",
    "\n",
    "He knows that you have programming skills and asks for your help in weeding out the aliens.\n",
    "\n",
    "Given below in the form of a list is the register of names of refugees that the headquarters maintains. Sort the names into two lists - potential aliens and humans. Alien names may:\n",
    "*   begin with the letter 'G'\n",
    "*   contain the substring 'arz'\n",
    "*   contain a digit\n",
    "\n",
    "Additionally, ensure that the new lists do not contain duplicate names and handle any problems that may arise due to case-sensitivity and whitespaces.\n",
    "\n"
   ]
  },
  {
   "cell_type": "code",
   "execution_count": null,
   "metadata": {
    "id": "xqobzAhOunhf"
   },
   "outputs": [],
   "source": [
    "register = [\"Gunther\", \"karzan\", \"pip1do\", \"amelia\", \"emma\", \"jarzk\", \"P0ppy\", \"gunther\", \"Daisy\",\" Demelza \", \"Lisa \", \"garzon \", \"marz4\"]"
   ]
  },
  {
   "cell_type": "code",
   "execution_count": 12,
   "metadata": {
    "colab": {
     "base_uri": "https://localhost:8080/"
    },
    "id": "ZHWkgegKvpgZ",
    "outputId": "1a688fdc-b148-43ca-b36b-ef4741347d54"
   },
   "outputs": [
    {
     "name": "stdout",
     "output_type": "stream",
     "text": [
      "Potential Aliens:\n",
      "Gunther\n",
      "karzan\n",
      "pip1do\n",
      "jarzk\n",
      "P0ppy\n",
      "garzon \n",
      "marz4\n",
      "\n",
      "Humans:\n",
      "amelia\n",
      "emma\n",
      "gunther\n",
      "Daisy\n",
      " Demelza \n",
      "Lisa \n"
     ]
    }
   ],
   "source": [
    "def classify_refugees(names):\n",
    "    aliens = []\n",
    "    humans = []\n",
    "\n",
    "    for name in names:\n",
    "        if name.startswith('G'):\n",
    "            aliens.append(name)\n",
    "        elif 'arz' in name:\n",
    "            aliens.append(name)\n",
    "        elif any(char.isdigit() for char in name):\n",
    "            aliens.append(name)\n",
    "        else:\n",
    "            humans.append(name)\n",
    "    \n",
    "    return aliens, humans\n",
    "\n",
    "register = [\"Gunther\", \"karzan\", \"pip1do\", \"amelia\", \"emma\", \"jarzk\", \"P0ppy\", \"gunther\", \"Daisy\",\" Demelza \", \"Lisa \", \"garzon \", \"marz4\"]\n",
    "\n",
    "aliens, humans = classify_refugees(register)\n",
    "\n",
    "print(\"Potential Aliens:\")\n",
    "for alien in aliens:\n",
    "    print(alien)\n",
    "\n",
    "print(\"\\nHumans:\")\n",
    "for human in humans:\n",
    "    print(human)"
   ]
  },
  {
   "cell_type": "markdown",
   "metadata": {
    "id": "coC9Sbqd0bq0"
   },
   "source": [
    "**Question 3:** Now that you have identified the potential aliens, its now time to decide how probable it is that these refugees are aliens.\n",
    "\n",
    "Prepare a dictionary where the keys are the names from the potential aliens list and the associated values are percentages from 0-100 of how probable it is that the refugee with those names are aliens.\n",
    "\n",
    "Given below are the conditions and associated probabilities:\n",
    "*   name starts with 'g' - 25%\n",
    "*   name contains \"arz\" - 50%\n",
    "*   name starts with 'g' and contains \"arz\" - 75%\n",
    "*   name has a digit - 100%"
   ]
  },
  {
   "cell_type": "code",
   "execution_count": 28,
   "metadata": {
    "colab": {
     "base_uri": "https://localhost:8080/"
    },
    "id": "aPuIzBQv2sSS",
    "outputId": "66723e91-905a-4a84-f902-5dab65eba33a"
   },
   "outputs": [
    {
     "name": "stdout",
     "output_type": "stream",
     "text": [
      "Potential Aliens:\n",
      "Gunther: 25%\n",
      "Garzan: 75%\n",
      "pip1do: 100%\n",
      "jarzk: 50%\n",
      "P0ppy: 100%\n",
      "garzon : 50%\n",
      "marz4: 50%\n",
      "\n",
      "Humans:\n",
      "amelia\n",
      "emma\n",
      "gunther\n",
      "Daisy\n",
      " Demelza \n",
      "Lisa \n"
     ]
    }
   ],
   "source": [
    "# your code here  \n",
    "def classify_refugees(names):\n",
    "    aliens = []\n",
    "    humans = []\n",
    "\n",
    "    for name in names:\n",
    "        if(name.startswith('G') and 'arz' in name):\n",
    "            aliens.append(name+\": 75%\")\n",
    "        elif name.startswith('G'):\n",
    "            aliens.append(name+\": 25%\")\n",
    "        elif 'arz' in name:\n",
    "            aliens.append(name+\": 50%\")\n",
    "        elif any(char.isdigit() for char in name):\n",
    "            aliens.append(name+\": 100%\")\n",
    "        else:\n",
    "            humans.append(name)\n",
    "    \n",
    "    return aliens, humans\n",
    "\n",
    "register = [\"Gunther\", \"Garzan\", \"pip1do\", \"amelia\", \"emma\", \"jarzk\", \"P0ppy\", \"gunther\", \"Daisy\",\" Demelza \", \"Lisa \", \"garzon \", \"marz4\"]\n",
    "\n",
    "aliens, humans = classify_refugees(register)\n",
    "\n",
    "print(\"Potential Aliens:\")\n",
    "for alien in aliens:\n",
    "    print(alien)\n",
    "\n",
    "print(\"\\nHumans:\")\n",
    "for human in humans:\n",
    "    print(human)"
   ]
  },
  {
   "cell_type": "markdown",
   "metadata": {
    "id": "6z7Wr4BD8xSA"
   },
   "source": [
    "**Question 4:** Now that you have completely weeded out the aliens, onto the next part of the plan.\n",
    "\n",
    "There are 12 districts in your city - I to XII. Another resistance group has agreed to share supplies with your group. They send you a list of districts they are operational in and you have in hand, the list of districts your group has members in. Determine which districts you can meet up in, i.e., districts that both the groups operate in.\n",
    "\n",
    "Hint: set operations may prove useful."
   ]
  },
  {
   "cell_type": "code",
   "execution_count": null,
   "metadata": {
    "id": "xUCGsUO9-use"
   },
   "outputs": [],
   "source": [
    "your_districts = ['I', 'IV', 'V', 'I', 'VI', 'IX', 'X', 'II', 'III', 'I']\n",
    "their_districts = ['V', 'IV', 'VI', 'XII', 'VII', 'IV', 'VI', 'VIII', 'III']"
   ]
  },
  {
   "cell_type": "code",
   "execution_count": 30,
   "metadata": {
    "colab": {
     "base_uri": "https://localhost:8080/"
    },
    "id": "y7MSDDAL_ZhT",
    "outputId": "33d81837-f211-486b-ec66-6b9a15aedbb5"
   },
   "outputs": [
    {
     "name": "stdout",
     "output_type": "stream",
     "text": [
      "{'V', 'III', 'VI', 'IV'}\n"
     ]
    }
   ],
   "source": [
    "# your code here\n",
    "your_districts = ['I', 'IV', 'V', 'I', 'VI', 'IX', 'X', 'II', 'III', 'I']\n",
    "their_districts = ['V', 'IV', 'VI', 'XII', 'VII', 'IV', 'VI', 'VIII', 'III']\n",
    "\n",
    "your_districts_set = set(your_districts)\n",
    "their_districts_set = set(their_districts)\n",
    "\n",
    "common_districts = your_districts_set.intersection(their_districts_set)\n",
    "print(common_districts)"
   ]
  },
  {
   "cell_type": "markdown",
   "metadata": {
    "id": "0MHXt5lKAYIW"
   },
   "source": [
    "Let's take the difficulty up a notch shall we? Your spies have informed you that the alien goverment has been setting up patrols in some districts to curb rebel movement. One of the spies managed to get a list of the districts that are being patrolled. Ensure that your meet up with the other rebel group does not take place in a patrolled district so that you do not get caught."
   ]
  },
  {
   "cell_type": "code",
   "execution_count": null,
   "metadata": {
    "id": "M-2hfJTOCfAz"
   },
   "outputs": [],
   "source": [
    "patrolled_districts = ['I', 'II', 'XII', 'IX', 'XI', 'IV', 'II', 'VI']"
   ]
  },
  {
   "cell_type": "code",
   "execution_count": 32,
   "metadata": {
    "colab": {
     "base_uri": "https://localhost:8080/"
    },
    "id": "bYjT2EfTC0uu",
    "outputId": "147f8eec-9de5-462a-e129-8fc4c2f75e08"
   },
   "outputs": [
    {
     "name": "stdout",
     "output_type": "stream",
     "text": [
      "{'V', 'III', 'VI', 'IV'}\n"
     ]
    }
   ],
   "source": [
    "# your code here\n",
    "your_districts = ['I', 'IV', 'V', 'I', 'VI', 'IX', 'X', 'II', 'III', 'I']\n",
    "their_districts = ['V', 'IV', 'VI', 'XII', 'VII', 'IV', 'VI', 'VIII', 'III']\n",
    "patrolled_districts = ['I', 'II', 'XII', 'IX', 'XI', 'IV', 'II', 'VI']\n",
    "your_districts_set = set(your_districts)\n",
    "their_districts_set = set(their_districts)\n",
    "patrol_districts_set= set(patrolled_districts)\n",
    "common_districts = your_districts_set.intersection(their_districts_set)\n",
    "safe=common_districts-patrol_districts_set\n",
    "print(common_districts)"
   ]
  },
  {
   "cell_type": "markdown",
   "metadata": {
    "id": "hryYd_ubD2U8"
   },
   "source": [
    "**Question 5:** Given below is a list of tuples. Each tuple in this list contains the rank and the name of a Dioneterran Commander. Your job is to define two functions: sort_by_rank() in descending order and sort_by_name() alphabetically to sort the given list by rank and name, respectively.\n",
    "\n",
    "Hint: use lambda expressions"
   ]
  },
  {
   "cell_type": "code",
   "execution_count": null,
   "metadata": {
    "id": "XniLIPBoGrl9"
   },
   "outputs": [],
   "source": [
    "commanders = {(4, \"Barzak\"), (2, \"Donesia\"), (5, \"Zeroza\"), (1, \"Yggacia\"), (3, \"Larzon\")}"
   ]
  },
  {
   "cell_type": "code",
   "execution_count": 35,
   "metadata": {
    "colab": {
     "base_uri": "https://localhost:8080/"
    },
    "id": "bjq8PTTOHh56",
    "outputId": "3f5b19b1-8e16-4453-de82-c62e0d97e72b"
   },
   "outputs": [
    {
     "data": {
      "text/plain": [
       "([(5, 'Zeroza'), (4, 'Barzak'), (3, 'Larzon'), (2, 'Donesia'), (1, 'Yggacia')],\n",
       " [(4, 'Barzak'), (2, 'Donesia'), (3, 'Larzon'), (1, 'Yggacia'), (5, 'Zeroza')])"
      ]
     },
     "execution_count": 35,
     "metadata": {},
     "output_type": "execute_result"
    }
   ],
   "source": [
    "# your code here\n",
    "\n",
    "commanders = [(4, \"Barzak\"), (2, \"Donesia\"), (5, \"Zeroza\"), (1, \"Yggacia\"), (3, \"Larzon\")]\n",
    "\n",
    "def sort_by_rank(commanders):\n",
    "    return sorted(commanders, key=lambda x: x[0], reverse=True)\n",
    "\n",
    "def sort_by_name(commanders):\n",
    "    return sorted(commanders, key=lambda x: x[1])\n",
    "\n",
    "sorted_by_rank = sort_by_rank(commanders)\n",
    "sorted_by_name = sort_by_name(commanders)\n",
    "\n",
    "sorted_by_rank, sorted_by_name\n"
   ]
  },
  {
   "cell_type": "markdown",
   "metadata": {
    "id": "90Nijs1KIZZ0"
   },
   "source": [
    "**Question 6:** You have been given the task of calculating the danger level of Dioneterran Commanders. To accomplish this task, you're required to define a class Commander with the attributes name, rank, weight, height and age. Implement a method calculate_danger() that returns the danger level by adding the height to the weight and dividing the result by the age, round off to the nearest integer.\n",
    "\n",
    "Create a Commander object with the necessary parameters and print the danger level."
   ]
  },
  {
   "cell_type": "code",
   "execution_count": 51,
   "metadata": {
    "colab": {
     "base_uri": "https://localhost:8080/"
    },
    "id": "gnI1a0TFLoqh",
    "outputId": "8c74d446-5b3c-46df-a420-ed5edb3dd26d"
   },
   "outputs": [
    {
     "name": "stdout",
     "output_type": "stream",
     "text": [
      "The danger level of Commander Barzak is 8.\n"
     ]
    }
   ],
   "source": [
    "# your code here\n",
    "class Commander:\n",
    "    def __init__(self, name, rank, weight, height, age):\n",
    "        self.name = name\n",
    "        self.rank = rank\n",
    "        self.weight = weight\n",
    "        self.height = height\n",
    "        self.age = age\n",
    "    \n",
    "    def calculate_danger(self):\n",
    "        danger_level = (self.height + self.weight) / self.age\n",
    "        return round(danger_level)\n",
    "\n",
    "commander = Commander(name=\"Barzak\", rank=4, weight=90, height=180, age=35)\n",
    "\n",
    "print(f\"The danger level of Commander {commander.name} is {commander.calculate_danger()}.\")"
   ]
  },
  {
   "cell_type": "markdown",
   "metadata": {
    "id": "74iydRkwULOi"
   },
   "source": [
    "**Question 7:** All the refugees in the headquarters who have been confirmed as humans have been assigned an ID. A lock has been installed at the gate. Your job is to write a regular expression that checks whether the ID entered is a valid one. Valid IDs have the following features:\n",
    "*   They are strings of exactly 7 characters\n",
    "*   The first 3 characters are uppercase alphabets\n",
    "*   The other last 4 characters are digits.\n",
    "\n",
    "Given below is a list of IDs entered at the gate. Determine which ones are valid.\n",
    "\n",
    "\n",
    "P.S. Don't forget to import the re module"
   ]
  },
  {
   "cell_type": "code",
   "execution_count": 54,
   "metadata": {
    "id": "WcroHcC4VUaY"
   },
   "outputs": [],
   "source": [
    "test_ids = [\"ABC1234\", \"sbaz56\", \"Wuy1452\", \"TYP9006\", \"KZED439\"]"
   ]
  },
  {
   "cell_type": "code",
   "execution_count": 56,
   "metadata": {
    "colab": {
     "base_uri": "https://localhost:8080/"
    },
    "id": "_Gj97hjmVpGG",
    "outputId": "2afb04e2-4493-415f-fe70-7eaa41253dfe"
   },
   "outputs": [
    {
     "data": {
      "text/plain": [
       "['ABC1234', 'TYP9006']"
      ]
     },
     "execution_count": 56,
     "metadata": {},
     "output_type": "execute_result"
    }
   ],
   "source": [
    "# your code here\n",
    "import re\n",
    "test_ids = [\"ABC1234\", \"sbaz56\", \"Wuy1452\", \"TYP9006\", \"KZED439\"]\n",
    "id_pattern = re.compile(r'^[A-Z]{3}\\d{4}$')\n",
    "def is_valid_id(id):\n",
    "    return bool(re.match(id_pattern, id))\n",
    "valid_ids = [id for id in test_ids if is_valid_id(id)]\n",
    "valid_ids\n",
    "\n",
    "                "
   ]
  },
  {
   "cell_type": "markdown",
   "metadata": {
    "id": "ZlnxyGHm7z0J"
   },
   "source": [
    "For a better understanding of Regular Expressions: https://realpython.com/regex-python/"
   ]
  },
  {
   "cell_type": "code",
   "execution_count": null,
   "metadata": {},
   "outputs": [],
   "source": []
  }
 ],
 "metadata": {
  "colab": {
   "provenance": []
  },
  "kernelspec": {
   "display_name": "Python 3 (ipykernel)",
   "language": "python",
   "name": "python3"
  },
  "language_info": {
   "codemirror_mode": {
    "name": "ipython",
    "version": 3
   },
   "file_extension": ".py",
   "mimetype": "text/x-python",
   "name": "python",
   "nbconvert_exporter": "python",
   "pygments_lexer": "ipython3",
   "version": "3.12.4"
  }
 },
 "nbformat": 4,
 "nbformat_minor": 4
}
